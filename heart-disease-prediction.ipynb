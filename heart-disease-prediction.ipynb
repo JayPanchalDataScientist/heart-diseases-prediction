{
 "cells": [
  {
   "cell_type": "code",
   "execution_count": 1,
   "id": "cf9a71d5",
   "metadata": {
    "_cell_guid": "b1076dfc-b9ad-4769-8c92-a6c4dae69d19",
    "_uuid": "8f2839f25d086af736a60e9eeb907d3b93b6e0e5",
    "execution": {
     "iopub.execute_input": "2022-08-25T06:48:28.305249Z",
     "iopub.status.busy": "2022-08-25T06:48:28.304714Z",
     "iopub.status.idle": "2022-08-25T06:48:28.319590Z",
     "shell.execute_reply": "2022-08-25T06:48:28.318626Z"
    },
    "papermill": {
     "duration": 0.031013,
     "end_time": "2022-08-25T06:48:28.322026",
     "exception": false,
     "start_time": "2022-08-25T06:48:28.291013",
     "status": "completed"
    },
    "tags": []
   },
   "outputs": [
    {
     "name": "stdout",
     "output_type": "stream",
     "text": [
      "/kaggle/input/yap6-heart-diseases-prediction/sample_submission.csv\n",
      "/kaggle/input/yap6-heart-diseases-prediction/train.csv\n",
      "/kaggle/input/yap6-heart-diseases-prediction/test.csv\n"
     ]
    }
   ],
   "source": [
    "# This Python 3 environment comes with many helpful analytics libraries installed\n",
    "# It is defined by the kaggle/python Docker image: https://github.com/kaggle/docker-python\n",
    "# For example, here's several helpful packages to load\n",
    "\n",
    "import numpy as np # linear algebra\n",
    "import pandas as pd # data processing, CSV file I/O (e.g. pd.read_csv)\n",
    "\n",
    "# Input data files are available in the read-only \"../input/\" directory\n",
    "# For example, running this (by clicking run or pressing Shift+Enter) will list all files under the input directory\n",
    "\n",
    "import os\n",
    "for dirname, _, filenames in os.walk('/kaggle/input'):\n",
    "    for filename in filenames:\n",
    "        print(os.path.join(dirname, filename))\n",
    "\n",
    "# You can write up to 20GB to the current directory (/kaggle/working/) that gets preserved as output when you create a version using \"Save & Run All\" \n",
    "# You can also write temporary files to /kaggle/temp/, but they won't be saved outside of the current session"
   ]
  },
  {
   "cell_type": "markdown",
   "id": "be6ff48f",
   "metadata": {
    "papermill": {
     "duration": 0.011647,
     "end_time": "2022-08-25T06:48:28.345326",
     "exception": false,
     "start_time": "2022-08-25T06:48:28.333679",
     "status": "completed"
    },
    "tags": []
   },
   "source": [
    "**Import Libraries and data**"
   ]
  },
  {
   "cell_type": "code",
   "execution_count": 2,
   "id": "12a9cc58",
   "metadata": {
    "execution": {
     "iopub.execute_input": "2022-08-25T06:48:28.371335Z",
     "iopub.status.busy": "2022-08-25T06:48:28.370945Z",
     "iopub.status.idle": "2022-08-25T06:48:29.510951Z",
     "shell.execute_reply": "2022-08-25T06:48:29.510142Z"
    },
    "papermill": {
     "duration": 1.156272,
     "end_time": "2022-08-25T06:48:29.513213",
     "exception": false,
     "start_time": "2022-08-25T06:48:28.356941",
     "status": "completed"
    },
    "tags": []
   },
   "outputs": [],
   "source": [
    "import matplotlib.pyplot as plt\n",
    "import seaborn as sns\n",
    "import plotly as px"
   ]
  },
  {
   "cell_type": "code",
   "execution_count": 3,
   "id": "bbdebd55",
   "metadata": {
    "execution": {
     "iopub.execute_input": "2022-08-25T06:48:29.539176Z",
     "iopub.status.busy": "2022-08-25T06:48:29.538002Z",
     "iopub.status.idle": "2022-08-25T06:48:29.648795Z",
     "shell.execute_reply": "2022-08-25T06:48:29.647279Z"
    },
    "papermill": {
     "duration": 0.125566,
     "end_time": "2022-08-25T06:48:29.650712",
     "exception": false,
     "start_time": "2022-08-25T06:48:29.525146",
     "status": "completed"
    },
    "tags": []
   },
   "outputs": [
    {
     "data": {
      "text/html": [
       "<div>\n",
       "<style scoped>\n",
       "    .dataframe tbody tr th:only-of-type {\n",
       "        vertical-align: middle;\n",
       "    }\n",
       "\n",
       "    .dataframe tbody tr th {\n",
       "        vertical-align: top;\n",
       "    }\n",
       "\n",
       "    .dataframe thead th {\n",
       "        text-align: right;\n",
       "    }\n",
       "</style>\n",
       "<table border=\"1\" class=\"dataframe\">\n",
       "  <thead>\n",
       "    <tr style=\"text-align: right;\">\n",
       "      <th></th>\n",
       "      <th>id</th>\n",
       "      <th>age</th>\n",
       "      <th>gender</th>\n",
       "      <th>height</th>\n",
       "      <th>weight</th>\n",
       "      <th>ap_hi</th>\n",
       "      <th>ap_lo</th>\n",
       "      <th>cholesterol</th>\n",
       "      <th>gluc</th>\n",
       "      <th>smoke</th>\n",
       "      <th>alco</th>\n",
       "      <th>active</th>\n",
       "      <th>cardio</th>\n",
       "    </tr>\n",
       "  </thead>\n",
       "  <tbody>\n",
       "    <tr>\n",
       "      <th>0</th>\n",
       "      <td>0</td>\n",
       "      <td>18393</td>\n",
       "      <td>2</td>\n",
       "      <td>168</td>\n",
       "      <td>62.0</td>\n",
       "      <td>110</td>\n",
       "      <td>80</td>\n",
       "      <td>1</td>\n",
       "      <td>1</td>\n",
       "      <td>0</td>\n",
       "      <td>0</td>\n",
       "      <td>1</td>\n",
       "      <td>0</td>\n",
       "    </tr>\n",
       "    <tr>\n",
       "      <th>1</th>\n",
       "      <td>1</td>\n",
       "      <td>20228</td>\n",
       "      <td>1</td>\n",
       "      <td>156</td>\n",
       "      <td>85.0</td>\n",
       "      <td>140</td>\n",
       "      <td>90</td>\n",
       "      <td>3</td>\n",
       "      <td>1</td>\n",
       "      <td>0</td>\n",
       "      <td>0</td>\n",
       "      <td>1</td>\n",
       "      <td>1</td>\n",
       "    </tr>\n",
       "    <tr>\n",
       "      <th>2</th>\n",
       "      <td>2</td>\n",
       "      <td>18857</td>\n",
       "      <td>1</td>\n",
       "      <td>165</td>\n",
       "      <td>64.0</td>\n",
       "      <td>130</td>\n",
       "      <td>70</td>\n",
       "      <td>3</td>\n",
       "      <td>1</td>\n",
       "      <td>0</td>\n",
       "      <td>0</td>\n",
       "      <td>0</td>\n",
       "      <td>1</td>\n",
       "    </tr>\n",
       "    <tr>\n",
       "      <th>3</th>\n",
       "      <td>3</td>\n",
       "      <td>17623</td>\n",
       "      <td>2</td>\n",
       "      <td>169</td>\n",
       "      <td>82.0</td>\n",
       "      <td>150</td>\n",
       "      <td>100</td>\n",
       "      <td>1</td>\n",
       "      <td>1</td>\n",
       "      <td>0</td>\n",
       "      <td>0</td>\n",
       "      <td>1</td>\n",
       "      <td>1</td>\n",
       "    </tr>\n",
       "    <tr>\n",
       "      <th>4</th>\n",
       "      <td>4</td>\n",
       "      <td>17474</td>\n",
       "      <td>1</td>\n",
       "      <td>156</td>\n",
       "      <td>56.0</td>\n",
       "      <td>100</td>\n",
       "      <td>60</td>\n",
       "      <td>1</td>\n",
       "      <td>1</td>\n",
       "      <td>0</td>\n",
       "      <td>0</td>\n",
       "      <td>0</td>\n",
       "      <td>0</td>\n",
       "    </tr>\n",
       "  </tbody>\n",
       "</table>\n",
       "</div>"
      ],
      "text/plain": [
       "   id    age  gender  height  weight  ap_hi  ap_lo  cholesterol  gluc  smoke  \\\n",
       "0   0  18393       2     168    62.0    110     80            1     1      0   \n",
       "1   1  20228       1     156    85.0    140     90            3     1      0   \n",
       "2   2  18857       1     165    64.0    130     70            3     1      0   \n",
       "3   3  17623       2     169    82.0    150    100            1     1      0   \n",
       "4   4  17474       1     156    56.0    100     60            1     1      0   \n",
       "\n",
       "   alco  active  cardio  \n",
       "0     0       1       0  \n",
       "1     0       1       1  \n",
       "2     0       0       1  \n",
       "3     0       1       1  \n",
       "4     0       0       0  "
      ]
     },
     "execution_count": 3,
     "metadata": {},
     "output_type": "execute_result"
    }
   ],
   "source": [
    "df_train = pd.read_csv('/kaggle/input/yap6-heart-diseases-prediction/train.csv')\n",
    "df_train.head()"
   ]
  },
  {
   "cell_type": "code",
   "execution_count": 4,
   "id": "e22d0947",
   "metadata": {
    "execution": {
     "iopub.execute_input": "2022-08-25T06:48:29.676232Z",
     "iopub.status.busy": "2022-08-25T06:48:29.675569Z",
     "iopub.status.idle": "2022-08-25T06:48:29.680745Z",
     "shell.execute_reply": "2022-08-25T06:48:29.680017Z"
    },
    "papermill": {
     "duration": 0.020111,
     "end_time": "2022-08-25T06:48:29.682575",
     "exception": false,
     "start_time": "2022-08-25T06:48:29.662464",
     "status": "completed"
    },
    "tags": []
   },
   "outputs": [
    {
     "data": {
      "text/plain": [
       "(70000, 13)"
      ]
     },
     "execution_count": 4,
     "metadata": {},
     "output_type": "execute_result"
    }
   ],
   "source": [
    "df_train.shape"
   ]
  },
  {
   "cell_type": "code",
   "execution_count": 5,
   "id": "4358e8ce",
   "metadata": {
    "execution": {
     "iopub.execute_input": "2022-08-25T06:48:29.707862Z",
     "iopub.status.busy": "2022-08-25T06:48:29.707303Z",
     "iopub.status.idle": "2022-08-25T06:48:29.712924Z",
     "shell.execute_reply": "2022-08-25T06:48:29.711895Z"
    },
    "papermill": {
     "duration": 0.021187,
     "end_time": "2022-08-25T06:48:29.715417",
     "exception": false,
     "start_time": "2022-08-25T06:48:29.694230",
     "status": "completed"
    },
    "tags": []
   },
   "outputs": [
    {
     "data": {
      "text/plain": [
       "Index(['id', 'age', 'gender', 'height', 'weight', 'ap_hi', 'ap_lo',\n",
       "       'cholesterol', 'gluc', 'smoke', 'alco', 'active', 'cardio'],\n",
       "      dtype='object')"
      ]
     },
     "execution_count": 5,
     "metadata": {},
     "output_type": "execute_result"
    }
   ],
   "source": [
    "df_train.columns"
   ]
  },
  {
   "cell_type": "code",
   "execution_count": 6,
   "id": "6d3e0ec2",
   "metadata": {
    "execution": {
     "iopub.execute_input": "2022-08-25T06:48:29.741685Z",
     "iopub.status.busy": "2022-08-25T06:48:29.741042Z",
     "iopub.status.idle": "2022-08-25T06:48:29.812302Z",
     "shell.execute_reply": "2022-08-25T06:48:29.811233Z"
    },
    "papermill": {
     "duration": 0.087111,
     "end_time": "2022-08-25T06:48:29.814979",
     "exception": false,
     "start_time": "2022-08-25T06:48:29.727868",
     "status": "completed"
    },
    "tags": []
   },
   "outputs": [
    {
     "data": {
      "text/html": [
       "<div>\n",
       "<style scoped>\n",
       "    .dataframe tbody tr th:only-of-type {\n",
       "        vertical-align: middle;\n",
       "    }\n",
       "\n",
       "    .dataframe tbody tr th {\n",
       "        vertical-align: top;\n",
       "    }\n",
       "\n",
       "    .dataframe thead th {\n",
       "        text-align: right;\n",
       "    }\n",
       "</style>\n",
       "<table border=\"1\" class=\"dataframe\">\n",
       "  <thead>\n",
       "    <tr style=\"text-align: right;\">\n",
       "      <th></th>\n",
       "      <th>id</th>\n",
       "      <th>age</th>\n",
       "      <th>gender</th>\n",
       "      <th>height</th>\n",
       "      <th>weight</th>\n",
       "      <th>ap_hi</th>\n",
       "      <th>ap_lo</th>\n",
       "      <th>cholesterol</th>\n",
       "      <th>gluc</th>\n",
       "      <th>smoke</th>\n",
       "      <th>alco</th>\n",
       "      <th>active</th>\n",
       "      <th>cardio</th>\n",
       "    </tr>\n",
       "  </thead>\n",
       "  <tbody>\n",
       "    <tr>\n",
       "      <th>count</th>\n",
       "      <td>70000.000000</td>\n",
       "      <td>70000.000000</td>\n",
       "      <td>70000.000000</td>\n",
       "      <td>70000.000000</td>\n",
       "      <td>70000.000000</td>\n",
       "      <td>70000.000000</td>\n",
       "      <td>70000.000000</td>\n",
       "      <td>70000.000000</td>\n",
       "      <td>70000.000000</td>\n",
       "      <td>70000.000000</td>\n",
       "      <td>70000.000000</td>\n",
       "      <td>70000.000000</td>\n",
       "      <td>70000.000000</td>\n",
       "    </tr>\n",
       "    <tr>\n",
       "      <th>mean</th>\n",
       "      <td>49972.419900</td>\n",
       "      <td>19468.865814</td>\n",
       "      <td>1.349571</td>\n",
       "      <td>164.359229</td>\n",
       "      <td>74.205690</td>\n",
       "      <td>128.817286</td>\n",
       "      <td>96.630414</td>\n",
       "      <td>1.366871</td>\n",
       "      <td>1.226457</td>\n",
       "      <td>0.088129</td>\n",
       "      <td>0.053771</td>\n",
       "      <td>0.803729</td>\n",
       "      <td>0.499700</td>\n",
       "    </tr>\n",
       "    <tr>\n",
       "      <th>std</th>\n",
       "      <td>28851.302323</td>\n",
       "      <td>2467.251667</td>\n",
       "      <td>0.476838</td>\n",
       "      <td>8.210126</td>\n",
       "      <td>14.395757</td>\n",
       "      <td>154.011419</td>\n",
       "      <td>188.472530</td>\n",
       "      <td>0.680250</td>\n",
       "      <td>0.572270</td>\n",
       "      <td>0.283484</td>\n",
       "      <td>0.225568</td>\n",
       "      <td>0.397179</td>\n",
       "      <td>0.500003</td>\n",
       "    </tr>\n",
       "    <tr>\n",
       "      <th>min</th>\n",
       "      <td>0.000000</td>\n",
       "      <td>10798.000000</td>\n",
       "      <td>1.000000</td>\n",
       "      <td>55.000000</td>\n",
       "      <td>10.000000</td>\n",
       "      <td>-150.000000</td>\n",
       "      <td>-70.000000</td>\n",
       "      <td>1.000000</td>\n",
       "      <td>1.000000</td>\n",
       "      <td>0.000000</td>\n",
       "      <td>0.000000</td>\n",
       "      <td>0.000000</td>\n",
       "      <td>0.000000</td>\n",
       "    </tr>\n",
       "    <tr>\n",
       "      <th>25%</th>\n",
       "      <td>25006.750000</td>\n",
       "      <td>17664.000000</td>\n",
       "      <td>1.000000</td>\n",
       "      <td>159.000000</td>\n",
       "      <td>65.000000</td>\n",
       "      <td>120.000000</td>\n",
       "      <td>80.000000</td>\n",
       "      <td>1.000000</td>\n",
       "      <td>1.000000</td>\n",
       "      <td>0.000000</td>\n",
       "      <td>0.000000</td>\n",
       "      <td>1.000000</td>\n",
       "      <td>0.000000</td>\n",
       "    </tr>\n",
       "    <tr>\n",
       "      <th>50%</th>\n",
       "      <td>50001.500000</td>\n",
       "      <td>19703.000000</td>\n",
       "      <td>1.000000</td>\n",
       "      <td>165.000000</td>\n",
       "      <td>72.000000</td>\n",
       "      <td>120.000000</td>\n",
       "      <td>80.000000</td>\n",
       "      <td>1.000000</td>\n",
       "      <td>1.000000</td>\n",
       "      <td>0.000000</td>\n",
       "      <td>0.000000</td>\n",
       "      <td>1.000000</td>\n",
       "      <td>0.000000</td>\n",
       "    </tr>\n",
       "    <tr>\n",
       "      <th>75%</th>\n",
       "      <td>74889.250000</td>\n",
       "      <td>21327.000000</td>\n",
       "      <td>2.000000</td>\n",
       "      <td>170.000000</td>\n",
       "      <td>82.000000</td>\n",
       "      <td>140.000000</td>\n",
       "      <td>90.000000</td>\n",
       "      <td>2.000000</td>\n",
       "      <td>1.000000</td>\n",
       "      <td>0.000000</td>\n",
       "      <td>0.000000</td>\n",
       "      <td>1.000000</td>\n",
       "      <td>1.000000</td>\n",
       "    </tr>\n",
       "    <tr>\n",
       "      <th>max</th>\n",
       "      <td>99999.000000</td>\n",
       "      <td>23713.000000</td>\n",
       "      <td>2.000000</td>\n",
       "      <td>250.000000</td>\n",
       "      <td>200.000000</td>\n",
       "      <td>16020.000000</td>\n",
       "      <td>11000.000000</td>\n",
       "      <td>3.000000</td>\n",
       "      <td>3.000000</td>\n",
       "      <td>1.000000</td>\n",
       "      <td>1.000000</td>\n",
       "      <td>1.000000</td>\n",
       "      <td>1.000000</td>\n",
       "    </tr>\n",
       "  </tbody>\n",
       "</table>\n",
       "</div>"
      ],
      "text/plain": [
       "                 id           age        gender        height        weight  \\\n",
       "count  70000.000000  70000.000000  70000.000000  70000.000000  70000.000000   \n",
       "mean   49972.419900  19468.865814      1.349571    164.359229     74.205690   \n",
       "std    28851.302323   2467.251667      0.476838      8.210126     14.395757   \n",
       "min        0.000000  10798.000000      1.000000     55.000000     10.000000   \n",
       "25%    25006.750000  17664.000000      1.000000    159.000000     65.000000   \n",
       "50%    50001.500000  19703.000000      1.000000    165.000000     72.000000   \n",
       "75%    74889.250000  21327.000000      2.000000    170.000000     82.000000   \n",
       "max    99999.000000  23713.000000      2.000000    250.000000    200.000000   \n",
       "\n",
       "              ap_hi         ap_lo   cholesterol          gluc         smoke  \\\n",
       "count  70000.000000  70000.000000  70000.000000  70000.000000  70000.000000   \n",
       "mean     128.817286     96.630414      1.366871      1.226457      0.088129   \n",
       "std      154.011419    188.472530      0.680250      0.572270      0.283484   \n",
       "min     -150.000000    -70.000000      1.000000      1.000000      0.000000   \n",
       "25%      120.000000     80.000000      1.000000      1.000000      0.000000   \n",
       "50%      120.000000     80.000000      1.000000      1.000000      0.000000   \n",
       "75%      140.000000     90.000000      2.000000      1.000000      0.000000   \n",
       "max    16020.000000  11000.000000      3.000000      3.000000      1.000000   \n",
       "\n",
       "               alco        active        cardio  \n",
       "count  70000.000000  70000.000000  70000.000000  \n",
       "mean       0.053771      0.803729      0.499700  \n",
       "std        0.225568      0.397179      0.500003  \n",
       "min        0.000000      0.000000      0.000000  \n",
       "25%        0.000000      1.000000      0.000000  \n",
       "50%        0.000000      1.000000      0.000000  \n",
       "75%        0.000000      1.000000      1.000000  \n",
       "max        1.000000      1.000000      1.000000  "
      ]
     },
     "execution_count": 6,
     "metadata": {},
     "output_type": "execute_result"
    }
   ],
   "source": [
    "df_train.describe()"
   ]
  },
  {
   "cell_type": "code",
   "execution_count": 7,
   "id": "7c0d41e6",
   "metadata": {
    "execution": {
     "iopub.execute_input": "2022-08-25T06:48:29.841981Z",
     "iopub.status.busy": "2022-08-25T06:48:29.841537Z",
     "iopub.status.idle": "2022-08-25T06:48:29.848604Z",
     "shell.execute_reply": "2022-08-25T06:48:29.847405Z"
    },
    "papermill": {
     "duration": 0.023278,
     "end_time": "2022-08-25T06:48:29.850585",
     "exception": false,
     "start_time": "2022-08-25T06:48:29.827307",
     "status": "completed"
    },
    "tags": []
   },
   "outputs": [
    {
     "data": {
      "text/plain": [
       "53"
      ]
     },
     "execution_count": 7,
     "metadata": {},
     "output_type": "execute_result"
    }
   ],
   "source": [
    "19703//365"
   ]
  },
  {
   "cell_type": "code",
   "execution_count": 8,
   "id": "77cade44",
   "metadata": {
    "execution": {
     "iopub.execute_input": "2022-08-25T06:48:29.876785Z",
     "iopub.status.busy": "2022-08-25T06:48:29.876111Z",
     "iopub.status.idle": "2022-08-25T06:48:29.885505Z",
     "shell.execute_reply": "2022-08-25T06:48:29.884016Z"
    },
    "papermill": {
     "duration": 0.024592,
     "end_time": "2022-08-25T06:48:29.887459",
     "exception": false,
     "start_time": "2022-08-25T06:48:29.862867",
     "status": "completed"
    },
    "tags": []
   },
   "outputs": [
    {
     "data": {
      "text/plain": [
       "id             0\n",
       "age            0\n",
       "gender         0\n",
       "height         0\n",
       "weight         0\n",
       "ap_hi          0\n",
       "ap_lo          0\n",
       "cholesterol    0\n",
       "gluc           0\n",
       "smoke          0\n",
       "alco           0\n",
       "active         0\n",
       "cardio         0\n",
       "dtype: int64"
      ]
     },
     "execution_count": 8,
     "metadata": {},
     "output_type": "execute_result"
    }
   ],
   "source": [
    "df_train.isnull().sum()"
   ]
  },
  {
   "cell_type": "code",
   "execution_count": 9,
   "id": "943a58a1",
   "metadata": {
    "execution": {
     "iopub.execute_input": "2022-08-25T06:48:29.913835Z",
     "iopub.status.busy": "2022-08-25T06:48:29.913426Z",
     "iopub.status.idle": "2022-08-25T06:48:29.922462Z",
     "shell.execute_reply": "2022-08-25T06:48:29.921115Z"
    },
    "papermill": {
     "duration": 0.025188,
     "end_time": "2022-08-25T06:48:29.925152",
     "exception": false,
     "start_time": "2022-08-25T06:48:29.899964",
     "status": "completed"
    },
    "tags": []
   },
   "outputs": [
    {
     "data": {
      "text/plain": [
       "1    56261\n",
       "0    13739\n",
       "Name: active, dtype: int64"
      ]
     },
     "execution_count": 9,
     "metadata": {},
     "output_type": "execute_result"
    }
   ],
   "source": [
    "df_train.active.value_counts()"
   ]
  },
  {
   "cell_type": "code",
   "execution_count": 10,
   "id": "9347f2d9",
   "metadata": {
    "execution": {
     "iopub.execute_input": "2022-08-25T06:48:29.951425Z",
     "iopub.status.busy": "2022-08-25T06:48:29.951036Z",
     "iopub.status.idle": "2022-08-25T06:48:29.968238Z",
     "shell.execute_reply": "2022-08-25T06:48:29.967076Z"
    },
    "papermill": {
     "duration": 0.033277,
     "end_time": "2022-08-25T06:48:29.970691",
     "exception": false,
     "start_time": "2022-08-25T06:48:29.937414",
     "status": "completed"
    },
    "tags": []
   },
   "outputs": [
    {
     "name": "stdout",
     "output_type": "stream",
     "text": [
      "<class 'pandas.core.frame.DataFrame'>\n",
      "RangeIndex: 70000 entries, 0 to 69999\n",
      "Data columns (total 13 columns):\n",
      " #   Column       Non-Null Count  Dtype  \n",
      "---  ------       --------------  -----  \n",
      " 0   id           70000 non-null  int64  \n",
      " 1   age          70000 non-null  int64  \n",
      " 2   gender       70000 non-null  int64  \n",
      " 3   height       70000 non-null  int64  \n",
      " 4   weight       70000 non-null  float64\n",
      " 5   ap_hi        70000 non-null  int64  \n",
      " 6   ap_lo        70000 non-null  int64  \n",
      " 7   cholesterol  70000 non-null  int64  \n",
      " 8   gluc         70000 non-null  int64  \n",
      " 9   smoke        70000 non-null  int64  \n",
      " 10  alco         70000 non-null  int64  \n",
      " 11  active       70000 non-null  int64  \n",
      " 12  cardio       70000 non-null  int64  \n",
      "dtypes: float64(1), int64(12)\n",
      "memory usage: 6.9 MB\n"
     ]
    }
   ],
   "source": [
    "df_train.info()"
   ]
  },
  {
   "cell_type": "markdown",
   "id": "94b172b6",
   "metadata": {
    "papermill": {
     "duration": 0.011908,
     "end_time": "2022-08-25T06:48:29.995038",
     "exception": false,
     "start_time": "2022-08-25T06:48:29.983130",
     "status": "completed"
    },
    "tags": []
   },
   "source": [
    "Scale the Data"
   ]
  },
  {
   "cell_type": "code",
   "execution_count": 11,
   "id": "d85a63fb",
   "metadata": {
    "execution": {
     "iopub.execute_input": "2022-08-25T06:48:30.021255Z",
     "iopub.status.busy": "2022-08-25T06:48:30.020908Z",
     "iopub.status.idle": "2022-08-25T06:48:30.030737Z",
     "shell.execute_reply": "2022-08-25T06:48:30.029233Z"
    },
    "papermill": {
     "duration": 0.026467,
     "end_time": "2022-08-25T06:48:30.033715",
     "exception": false,
     "start_time": "2022-08-25T06:48:30.007248",
     "status": "completed"
    },
    "tags": []
   },
   "outputs": [],
   "source": [
    "X = df_train.iloc[:,:-1]\n",
    "y = df_train.iloc[:,-1]\n",
    "\n",
    "X = X.drop(['id'], axis=1)"
   ]
  },
  {
   "cell_type": "code",
   "execution_count": 12,
   "id": "fd371d89",
   "metadata": {
    "execution": {
     "iopub.execute_input": "2022-08-25T06:48:30.061810Z",
     "iopub.status.busy": "2022-08-25T06:48:30.061416Z",
     "iopub.status.idle": "2022-08-25T06:48:30.072985Z",
     "shell.execute_reply": "2022-08-25T06:48:30.072214Z"
    },
    "papermill": {
     "duration": 0.027928,
     "end_time": "2022-08-25T06:48:30.074947",
     "exception": false,
     "start_time": "2022-08-25T06:48:30.047019",
     "status": "completed"
    },
    "tags": []
   },
   "outputs": [
    {
     "data": {
      "text/html": [
       "<div>\n",
       "<style scoped>\n",
       "    .dataframe tbody tr th:only-of-type {\n",
       "        vertical-align: middle;\n",
       "    }\n",
       "\n",
       "    .dataframe tbody tr th {\n",
       "        vertical-align: top;\n",
       "    }\n",
       "\n",
       "    .dataframe thead th {\n",
       "        text-align: right;\n",
       "    }\n",
       "</style>\n",
       "<table border=\"1\" class=\"dataframe\">\n",
       "  <thead>\n",
       "    <tr style=\"text-align: right;\">\n",
       "      <th></th>\n",
       "      <th>age</th>\n",
       "      <th>gender</th>\n",
       "      <th>height</th>\n",
       "      <th>weight</th>\n",
       "      <th>ap_hi</th>\n",
       "      <th>ap_lo</th>\n",
       "      <th>cholesterol</th>\n",
       "      <th>gluc</th>\n",
       "      <th>smoke</th>\n",
       "      <th>alco</th>\n",
       "      <th>active</th>\n",
       "    </tr>\n",
       "  </thead>\n",
       "  <tbody>\n",
       "    <tr>\n",
       "      <th>0</th>\n",
       "      <td>18393</td>\n",
       "      <td>2</td>\n",
       "      <td>168</td>\n",
       "      <td>62.0</td>\n",
       "      <td>110</td>\n",
       "      <td>80</td>\n",
       "      <td>1</td>\n",
       "      <td>1</td>\n",
       "      <td>0</td>\n",
       "      <td>0</td>\n",
       "      <td>1</td>\n",
       "    </tr>\n",
       "    <tr>\n",
       "      <th>1</th>\n",
       "      <td>20228</td>\n",
       "      <td>1</td>\n",
       "      <td>156</td>\n",
       "      <td>85.0</td>\n",
       "      <td>140</td>\n",
       "      <td>90</td>\n",
       "      <td>3</td>\n",
       "      <td>1</td>\n",
       "      <td>0</td>\n",
       "      <td>0</td>\n",
       "      <td>1</td>\n",
       "    </tr>\n",
       "    <tr>\n",
       "      <th>2</th>\n",
       "      <td>18857</td>\n",
       "      <td>1</td>\n",
       "      <td>165</td>\n",
       "      <td>64.0</td>\n",
       "      <td>130</td>\n",
       "      <td>70</td>\n",
       "      <td>3</td>\n",
       "      <td>1</td>\n",
       "      <td>0</td>\n",
       "      <td>0</td>\n",
       "      <td>0</td>\n",
       "    </tr>\n",
       "    <tr>\n",
       "      <th>3</th>\n",
       "      <td>17623</td>\n",
       "      <td>2</td>\n",
       "      <td>169</td>\n",
       "      <td>82.0</td>\n",
       "      <td>150</td>\n",
       "      <td>100</td>\n",
       "      <td>1</td>\n",
       "      <td>1</td>\n",
       "      <td>0</td>\n",
       "      <td>0</td>\n",
       "      <td>1</td>\n",
       "    </tr>\n",
       "    <tr>\n",
       "      <th>4</th>\n",
       "      <td>17474</td>\n",
       "      <td>1</td>\n",
       "      <td>156</td>\n",
       "      <td>56.0</td>\n",
       "      <td>100</td>\n",
       "      <td>60</td>\n",
       "      <td>1</td>\n",
       "      <td>1</td>\n",
       "      <td>0</td>\n",
       "      <td>0</td>\n",
       "      <td>0</td>\n",
       "    </tr>\n",
       "  </tbody>\n",
       "</table>\n",
       "</div>"
      ],
      "text/plain": [
       "     age  gender  height  weight  ap_hi  ap_lo  cholesterol  gluc  smoke  \\\n",
       "0  18393       2     168    62.0    110     80            1     1      0   \n",
       "1  20228       1     156    85.0    140     90            3     1      0   \n",
       "2  18857       1     165    64.0    130     70            3     1      0   \n",
       "3  17623       2     169    82.0    150    100            1     1      0   \n",
       "4  17474       1     156    56.0    100     60            1     1      0   \n",
       "\n",
       "   alco  active  \n",
       "0     0       1  \n",
       "1     0       1  \n",
       "2     0       0  \n",
       "3     0       1  \n",
       "4     0       0  "
      ]
     },
     "execution_count": 12,
     "metadata": {},
     "output_type": "execute_result"
    }
   ],
   "source": [
    "X.head()"
   ]
  },
  {
   "cell_type": "code",
   "execution_count": 13,
   "id": "22830146",
   "metadata": {
    "execution": {
     "iopub.execute_input": "2022-08-25T06:48:30.103079Z",
     "iopub.status.busy": "2022-08-25T06:48:30.102714Z",
     "iopub.status.idle": "2022-08-25T06:48:30.111446Z",
     "shell.execute_reply": "2022-08-25T06:48:30.109204Z"
    },
    "papermill": {
     "duration": 0.025914,
     "end_time": "2022-08-25T06:48:30.114093",
     "exception": false,
     "start_time": "2022-08-25T06:48:30.088179",
     "status": "completed"
    },
    "tags": []
   },
   "outputs": [
    {
     "data": {
      "text/plain": [
       "0    0\n",
       "1    1\n",
       "2    1\n",
       "3    1\n",
       "4    0\n",
       "Name: cardio, dtype: int64"
      ]
     },
     "execution_count": 13,
     "metadata": {},
     "output_type": "execute_result"
    }
   ],
   "source": [
    "y.head()"
   ]
  },
  {
   "cell_type": "markdown",
   "id": "05bdbfa4",
   "metadata": {
    "papermill": {
     "duration": 0.013724,
     "end_time": "2022-08-25T06:48:30.142198",
     "exception": false,
     "start_time": "2022-08-25T06:48:30.128474",
     "status": "completed"
    },
    "tags": []
   },
   "source": [
    "**Scale the Data**"
   ]
  },
  {
   "cell_type": "code",
   "execution_count": 14,
   "id": "50fcf982",
   "metadata": {
    "execution": {
     "iopub.execute_input": "2022-08-25T06:48:30.169899Z",
     "iopub.status.busy": "2022-08-25T06:48:30.169483Z",
     "iopub.status.idle": "2022-08-25T06:48:30.364308Z",
     "shell.execute_reply": "2022-08-25T06:48:30.363198Z"
    },
    "papermill": {
     "duration": 0.211547,
     "end_time": "2022-08-25T06:48:30.367082",
     "exception": false,
     "start_time": "2022-08-25T06:48:30.155535",
     "status": "completed"
    },
    "tags": []
   },
   "outputs": [],
   "source": [
    "from sklearn.preprocessing import MinMaxScaler\n",
    "scaler = MinMaxScaler()\n",
    "\n",
    "def scaling(X, scaler):\n",
    "    XScaled = scaler.fit_transform(X)\n",
    "    XScaled = pd.DataFrame(XScaled)\n",
    "    XScaled.columns = X.columns\n",
    "    return XScaled"
   ]
  },
  {
   "cell_type": "code",
   "execution_count": 15,
   "id": "6dce218d",
   "metadata": {
    "execution": {
     "iopub.execute_input": "2022-08-25T06:48:30.395078Z",
     "iopub.status.busy": "2022-08-25T06:48:30.394693Z",
     "iopub.status.idle": "2022-08-25T06:48:30.412745Z",
     "shell.execute_reply": "2022-08-25T06:48:30.411179Z"
    },
    "papermill": {
     "duration": 0.035188,
     "end_time": "2022-08-25T06:48:30.415303",
     "exception": false,
     "start_time": "2022-08-25T06:48:30.380115",
     "status": "completed"
    },
    "tags": []
   },
   "outputs": [],
   "source": [
    "XScaled = scaling(X,scaler)"
   ]
  },
  {
   "cell_type": "code",
   "execution_count": 16,
   "id": "252daeb2",
   "metadata": {
    "execution": {
     "iopub.execute_input": "2022-08-25T06:48:30.443768Z",
     "iopub.status.busy": "2022-08-25T06:48:30.442387Z",
     "iopub.status.idle": "2022-08-25T06:48:30.462698Z",
     "shell.execute_reply": "2022-08-25T06:48:30.461751Z"
    },
    "papermill": {
     "duration": 0.037149,
     "end_time": "2022-08-25T06:48:30.465323",
     "exception": false,
     "start_time": "2022-08-25T06:48:30.428174",
     "status": "completed"
    },
    "tags": []
   },
   "outputs": [
    {
     "data": {
      "text/html": [
       "<div>\n",
       "<style scoped>\n",
       "    .dataframe tbody tr th:only-of-type {\n",
       "        vertical-align: middle;\n",
       "    }\n",
       "\n",
       "    .dataframe tbody tr th {\n",
       "        vertical-align: top;\n",
       "    }\n",
       "\n",
       "    .dataframe thead th {\n",
       "        text-align: right;\n",
       "    }\n",
       "</style>\n",
       "<table border=\"1\" class=\"dataframe\">\n",
       "  <thead>\n",
       "    <tr style=\"text-align: right;\">\n",
       "      <th></th>\n",
       "      <th>age</th>\n",
       "      <th>gender</th>\n",
       "      <th>height</th>\n",
       "      <th>weight</th>\n",
       "      <th>ap_hi</th>\n",
       "      <th>ap_lo</th>\n",
       "      <th>cholesterol</th>\n",
       "      <th>gluc</th>\n",
       "      <th>smoke</th>\n",
       "      <th>alco</th>\n",
       "      <th>active</th>\n",
       "    </tr>\n",
       "  </thead>\n",
       "  <tbody>\n",
       "    <tr>\n",
       "      <th>0</th>\n",
       "      <td>0.588076</td>\n",
       "      <td>1.0</td>\n",
       "      <td>0.579487</td>\n",
       "      <td>0.273684</td>\n",
       "      <td>0.016079</td>\n",
       "      <td>0.013550</td>\n",
       "      <td>0.0</td>\n",
       "      <td>0.0</td>\n",
       "      <td>0.0</td>\n",
       "      <td>0.0</td>\n",
       "      <td>1.0</td>\n",
       "    </tr>\n",
       "    <tr>\n",
       "      <th>1</th>\n",
       "      <td>0.730159</td>\n",
       "      <td>0.0</td>\n",
       "      <td>0.517949</td>\n",
       "      <td>0.394737</td>\n",
       "      <td>0.017934</td>\n",
       "      <td>0.014453</td>\n",
       "      <td>1.0</td>\n",
       "      <td>0.0</td>\n",
       "      <td>0.0</td>\n",
       "      <td>0.0</td>\n",
       "      <td>1.0</td>\n",
       "    </tr>\n",
       "    <tr>\n",
       "      <th>2</th>\n",
       "      <td>0.624003</td>\n",
       "      <td>0.0</td>\n",
       "      <td>0.564103</td>\n",
       "      <td>0.284211</td>\n",
       "      <td>0.017316</td>\n",
       "      <td>0.012647</td>\n",
       "      <td>1.0</td>\n",
       "      <td>0.0</td>\n",
       "      <td>0.0</td>\n",
       "      <td>0.0</td>\n",
       "      <td>0.0</td>\n",
       "    </tr>\n",
       "    <tr>\n",
       "      <th>3</th>\n",
       "      <td>0.528455</td>\n",
       "      <td>1.0</td>\n",
       "      <td>0.584615</td>\n",
       "      <td>0.378947</td>\n",
       "      <td>0.018553</td>\n",
       "      <td>0.015357</td>\n",
       "      <td>0.0</td>\n",
       "      <td>0.0</td>\n",
       "      <td>0.0</td>\n",
       "      <td>0.0</td>\n",
       "      <td>1.0</td>\n",
       "    </tr>\n",
       "    <tr>\n",
       "      <th>4</th>\n",
       "      <td>0.516918</td>\n",
       "      <td>0.0</td>\n",
       "      <td>0.517949</td>\n",
       "      <td>0.242105</td>\n",
       "      <td>0.015461</td>\n",
       "      <td>0.011743</td>\n",
       "      <td>0.0</td>\n",
       "      <td>0.0</td>\n",
       "      <td>0.0</td>\n",
       "      <td>0.0</td>\n",
       "      <td>0.0</td>\n",
       "    </tr>\n",
       "  </tbody>\n",
       "</table>\n",
       "</div>"
      ],
      "text/plain": [
       "        age  gender    height    weight     ap_hi     ap_lo  cholesterol  \\\n",
       "0  0.588076     1.0  0.579487  0.273684  0.016079  0.013550          0.0   \n",
       "1  0.730159     0.0  0.517949  0.394737  0.017934  0.014453          1.0   \n",
       "2  0.624003     0.0  0.564103  0.284211  0.017316  0.012647          1.0   \n",
       "3  0.528455     1.0  0.584615  0.378947  0.018553  0.015357          0.0   \n",
       "4  0.516918     0.0  0.517949  0.242105  0.015461  0.011743          0.0   \n",
       "\n",
       "   gluc  smoke  alco  active  \n",
       "0   0.0    0.0   0.0     1.0  \n",
       "1   0.0    0.0   0.0     1.0  \n",
       "2   0.0    0.0   0.0     0.0  \n",
       "3   0.0    0.0   0.0     1.0  \n",
       "4   0.0    0.0   0.0     0.0  "
      ]
     },
     "execution_count": 16,
     "metadata": {},
     "output_type": "execute_result"
    }
   ],
   "source": [
    "XScaled.head()"
   ]
  },
  {
   "cell_type": "code",
   "execution_count": 17,
   "id": "abb4cf66",
   "metadata": {
    "execution": {
     "iopub.execute_input": "2022-08-25T06:48:30.496643Z",
     "iopub.status.busy": "2022-08-25T06:48:30.496229Z",
     "iopub.status.idle": "2022-08-25T06:48:30.552388Z",
     "shell.execute_reply": "2022-08-25T06:48:30.551200Z"
    },
    "papermill": {
     "duration": 0.074203,
     "end_time": "2022-08-25T06:48:30.554605",
     "exception": false,
     "start_time": "2022-08-25T06:48:30.480402",
     "status": "completed"
    },
    "tags": []
   },
   "outputs": [
    {
     "data": {
      "text/html": [
       "<div>\n",
       "<style scoped>\n",
       "    .dataframe tbody tr th:only-of-type {\n",
       "        vertical-align: middle;\n",
       "    }\n",
       "\n",
       "    .dataframe tbody tr th {\n",
       "        vertical-align: top;\n",
       "    }\n",
       "\n",
       "    .dataframe thead th {\n",
       "        text-align: right;\n",
       "    }\n",
       "</style>\n",
       "<table border=\"1\" class=\"dataframe\">\n",
       "  <thead>\n",
       "    <tr style=\"text-align: right;\">\n",
       "      <th></th>\n",
       "      <th>age</th>\n",
       "      <th>gender</th>\n",
       "      <th>height</th>\n",
       "      <th>weight</th>\n",
       "      <th>ap_hi</th>\n",
       "      <th>ap_lo</th>\n",
       "      <th>cholesterol</th>\n",
       "      <th>gluc</th>\n",
       "      <th>smoke</th>\n",
       "      <th>alco</th>\n",
       "      <th>active</th>\n",
       "    </tr>\n",
       "  </thead>\n",
       "  <tbody>\n",
       "    <tr>\n",
       "      <th>count</th>\n",
       "      <td>70000.000000</td>\n",
       "      <td>70000.000000</td>\n",
       "      <td>70000.000000</td>\n",
       "      <td>70000.000000</td>\n",
       "      <td>70000.000000</td>\n",
       "      <td>70000.000000</td>\n",
       "      <td>70000.000000</td>\n",
       "      <td>70000.000000</td>\n",
       "      <td>70000.000000</td>\n",
       "      <td>70000.000000</td>\n",
       "      <td>70000.000000</td>\n",
       "    </tr>\n",
       "    <tr>\n",
       "      <th>mean</th>\n",
       "      <td>0.671379</td>\n",
       "      <td>0.349571</td>\n",
       "      <td>0.560817</td>\n",
       "      <td>0.337925</td>\n",
       "      <td>0.017243</td>\n",
       "      <td>0.015052</td>\n",
       "      <td>0.183436</td>\n",
       "      <td>0.113229</td>\n",
       "      <td>0.088129</td>\n",
       "      <td>0.053771</td>\n",
       "      <td>0.803729</td>\n",
       "    </tr>\n",
       "    <tr>\n",
       "      <th>std</th>\n",
       "      <td>0.191038</td>\n",
       "      <td>0.476838</td>\n",
       "      <td>0.042103</td>\n",
       "      <td>0.075767</td>\n",
       "      <td>0.009525</td>\n",
       "      <td>0.017026</td>\n",
       "      <td>0.340125</td>\n",
       "      <td>0.286135</td>\n",
       "      <td>0.283484</td>\n",
       "      <td>0.225568</td>\n",
       "      <td>0.397179</td>\n",
       "    </tr>\n",
       "    <tr>\n",
       "      <th>min</th>\n",
       "      <td>0.000000</td>\n",
       "      <td>0.000000</td>\n",
       "      <td>0.000000</td>\n",
       "      <td>0.000000</td>\n",
       "      <td>0.000000</td>\n",
       "      <td>0.000000</td>\n",
       "      <td>0.000000</td>\n",
       "      <td>0.000000</td>\n",
       "      <td>0.000000</td>\n",
       "      <td>0.000000</td>\n",
       "      <td>0.000000</td>\n",
       "    </tr>\n",
       "    <tr>\n",
       "      <th>25%</th>\n",
       "      <td>0.531630</td>\n",
       "      <td>0.000000</td>\n",
       "      <td>0.533333</td>\n",
       "      <td>0.289474</td>\n",
       "      <td>0.016698</td>\n",
       "      <td>0.013550</td>\n",
       "      <td>0.000000</td>\n",
       "      <td>0.000000</td>\n",
       "      <td>0.000000</td>\n",
       "      <td>0.000000</td>\n",
       "      <td>1.000000</td>\n",
       "    </tr>\n",
       "    <tr>\n",
       "      <th>50%</th>\n",
       "      <td>0.689508</td>\n",
       "      <td>0.000000</td>\n",
       "      <td>0.564103</td>\n",
       "      <td>0.326316</td>\n",
       "      <td>0.016698</td>\n",
       "      <td>0.013550</td>\n",
       "      <td>0.000000</td>\n",
       "      <td>0.000000</td>\n",
       "      <td>0.000000</td>\n",
       "      <td>0.000000</td>\n",
       "      <td>1.000000</td>\n",
       "    </tr>\n",
       "    <tr>\n",
       "      <th>75%</th>\n",
       "      <td>0.815254</td>\n",
       "      <td>1.000000</td>\n",
       "      <td>0.589744</td>\n",
       "      <td>0.378947</td>\n",
       "      <td>0.017934</td>\n",
       "      <td>0.014453</td>\n",
       "      <td>0.500000</td>\n",
       "      <td>0.000000</td>\n",
       "      <td>0.000000</td>\n",
       "      <td>0.000000</td>\n",
       "      <td>1.000000</td>\n",
       "    </tr>\n",
       "    <tr>\n",
       "      <th>max</th>\n",
       "      <td>1.000000</td>\n",
       "      <td>1.000000</td>\n",
       "      <td>1.000000</td>\n",
       "      <td>1.000000</td>\n",
       "      <td>1.000000</td>\n",
       "      <td>1.000000</td>\n",
       "      <td>1.000000</td>\n",
       "      <td>1.000000</td>\n",
       "      <td>1.000000</td>\n",
       "      <td>1.000000</td>\n",
       "      <td>1.000000</td>\n",
       "    </tr>\n",
       "  </tbody>\n",
       "</table>\n",
       "</div>"
      ],
      "text/plain": [
       "                age        gender        height        weight         ap_hi  \\\n",
       "count  70000.000000  70000.000000  70000.000000  70000.000000  70000.000000   \n",
       "mean       0.671379      0.349571      0.560817      0.337925      0.017243   \n",
       "std        0.191038      0.476838      0.042103      0.075767      0.009525   \n",
       "min        0.000000      0.000000      0.000000      0.000000      0.000000   \n",
       "25%        0.531630      0.000000      0.533333      0.289474      0.016698   \n",
       "50%        0.689508      0.000000      0.564103      0.326316      0.016698   \n",
       "75%        0.815254      1.000000      0.589744      0.378947      0.017934   \n",
       "max        1.000000      1.000000      1.000000      1.000000      1.000000   \n",
       "\n",
       "              ap_lo   cholesterol          gluc         smoke          alco  \\\n",
       "count  70000.000000  70000.000000  70000.000000  70000.000000  70000.000000   \n",
       "mean       0.015052      0.183436      0.113229      0.088129      0.053771   \n",
       "std        0.017026      0.340125      0.286135      0.283484      0.225568   \n",
       "min        0.000000      0.000000      0.000000      0.000000      0.000000   \n",
       "25%        0.013550      0.000000      0.000000      0.000000      0.000000   \n",
       "50%        0.013550      0.000000      0.000000      0.000000      0.000000   \n",
       "75%        0.014453      0.500000      0.000000      0.000000      0.000000   \n",
       "max        1.000000      1.000000      1.000000      1.000000      1.000000   \n",
       "\n",
       "             active  \n",
       "count  70000.000000  \n",
       "mean       0.803729  \n",
       "std        0.397179  \n",
       "min        0.000000  \n",
       "25%        1.000000  \n",
       "50%        1.000000  \n",
       "75%        1.000000  \n",
       "max        1.000000  "
      ]
     },
     "execution_count": 17,
     "metadata": {},
     "output_type": "execute_result"
    }
   ],
   "source": [
    "XScaled.describe()"
   ]
  },
  {
   "cell_type": "markdown",
   "id": "e8e95111",
   "metadata": {
    "papermill": {
     "duration": 0.014894,
     "end_time": "2022-08-25T06:48:30.583707",
     "exception": false,
     "start_time": "2022-08-25T06:48:30.568813",
     "status": "completed"
    },
    "tags": []
   },
   "source": [
    "**Train Test Split**"
   ]
  },
  {
   "cell_type": "code",
   "execution_count": 18,
   "id": "e1f51687",
   "metadata": {
    "execution": {
     "iopub.execute_input": "2022-08-25T06:48:30.619229Z",
     "iopub.status.busy": "2022-08-25T06:48:30.618576Z",
     "iopub.status.idle": "2022-08-25T06:48:30.697327Z",
     "shell.execute_reply": "2022-08-25T06:48:30.695998Z"
    },
    "papermill": {
     "duration": 0.101754,
     "end_time": "2022-08-25T06:48:30.699984",
     "exception": false,
     "start_time": "2022-08-25T06:48:30.598230",
     "status": "completed"
    },
    "tags": []
   },
   "outputs": [],
   "source": [
    "# split into train and test\n",
    "from sklearn.model_selection import train_test_split\n",
    "X_train, X_test, y_train, y_test = train_test_split(XScaled, y, \n",
    "                                                   train_size=0.9,\n",
    "                                                   test_size = 0.1, random_state=100) # we have enough data so we select 90 percentage of test data"
   ]
  },
  {
   "cell_type": "code",
   "execution_count": 19,
   "id": "3d1c885b",
   "metadata": {
    "execution": {
     "iopub.execute_input": "2022-08-25T06:48:30.729610Z",
     "iopub.status.busy": "2022-08-25T06:48:30.728851Z",
     "iopub.status.idle": "2022-08-25T06:48:30.736429Z",
     "shell.execute_reply": "2022-08-25T06:48:30.735630Z"
    },
    "papermill": {
     "duration": 0.025125,
     "end_time": "2022-08-25T06:48:30.738379",
     "exception": false,
     "start_time": "2022-08-25T06:48:30.713254",
     "status": "completed"
    },
    "tags": []
   },
   "outputs": [
    {
     "data": {
      "text/plain": [
       "(63000, 11)"
      ]
     },
     "execution_count": 19,
     "metadata": {},
     "output_type": "execute_result"
    }
   ],
   "source": [
    "X_train.shape"
   ]
  },
  {
   "cell_type": "code",
   "execution_count": 20,
   "id": "4267d6b1",
   "metadata": {
    "execution": {
     "iopub.execute_input": "2022-08-25T06:48:30.767150Z",
     "iopub.status.busy": "2022-08-25T06:48:30.766459Z",
     "iopub.status.idle": "2022-08-25T06:48:30.772414Z",
     "shell.execute_reply": "2022-08-25T06:48:30.771718Z"
    },
    "papermill": {
     "duration": 0.022382,
     "end_time": "2022-08-25T06:48:30.774261",
     "exception": false,
     "start_time": "2022-08-25T06:48:30.751879",
     "status": "completed"
    },
    "tags": []
   },
   "outputs": [
    {
     "data": {
      "text/plain": [
       "(7000, 11)"
      ]
     },
     "execution_count": 20,
     "metadata": {},
     "output_type": "execute_result"
    }
   ],
   "source": [
    "X_test.shape"
   ]
  },
  {
   "cell_type": "markdown",
   "id": "f1e1452e",
   "metadata": {
    "papermill": {
     "duration": 0.012681,
     "end_time": "2022-08-25T06:48:30.800269",
     "exception": false,
     "start_time": "2022-08-25T06:48:30.787588",
     "status": "completed"
    },
    "tags": []
   },
   "source": [
    "**PCA**"
   ]
  },
  {
   "cell_type": "code",
   "execution_count": 21,
   "id": "03670165",
   "metadata": {
    "execution": {
     "iopub.execute_input": "2022-08-25T06:48:30.830082Z",
     "iopub.status.busy": "2022-08-25T06:48:30.829702Z",
     "iopub.status.idle": "2022-08-25T06:48:31.004127Z",
     "shell.execute_reply": "2022-08-25T06:48:31.003103Z"
    },
    "papermill": {
     "duration": 0.193061,
     "end_time": "2022-08-25T06:48:31.006514",
     "exception": false,
     "start_time": "2022-08-25T06:48:30.813453",
     "status": "completed"
    },
    "tags": []
   },
   "outputs": [
    {
     "data": {
      "text/plain": [
       "PCA(random_state=42)"
      ]
     },
     "execution_count": 21,
     "metadata": {},
     "output_type": "execute_result"
    }
   ],
   "source": [
    "from sklearn.decomposition import PCA\n",
    "pca = PCA(random_state=42)\n",
    "pca.fit(X_train)"
   ]
  },
  {
   "cell_type": "code",
   "execution_count": 22,
   "id": "1fce2307",
   "metadata": {
    "execution": {
     "iopub.execute_input": "2022-08-25T06:48:31.044777Z",
     "iopub.status.busy": "2022-08-25T06:48:31.044371Z",
     "iopub.status.idle": "2022-08-25T06:48:31.059587Z",
     "shell.execute_reply": "2022-08-25T06:48:31.058096Z"
    },
    "papermill": {
     "duration": 0.038259,
     "end_time": "2022-08-25T06:48:31.063026",
     "exception": false,
     "start_time": "2022-08-25T06:48:31.024767",
     "status": "completed"
    },
    "tags": []
   },
   "outputs": [
    {
     "data": {
      "text/plain": [
       "array([[-1.71500177e-02,  9.48021726e-01,  4.26147259e-02,\n",
       "         2.37005079e-02,  1.22528475e-04,  4.29527597e-04,\n",
       "        -5.23697557e-02, -3.28325030e-02,  2.81363214e-01,\n",
       "         1.22312282e-01,  2.52316966e-02],\n",
       "       [-8.15756481e-04,  3.27626163e-02,  2.46521869e-03,\n",
       "         2.24648385e-03, -1.68057577e-04, -2.94969374e-04,\n",
       "        -6.59926328e-02, -2.67260666e-02, -2.65476205e-02,\n",
       "        -2.41855160e-02, -9.96270887e-01],\n",
       "       [ 9.96150516e-02,  4.76278243e-02, -7.77041024e-04,\n",
       "         3.34662713e-02,  6.29092001e-04,  1.09535472e-03,\n",
       "         8.14068268e-01,  5.61285293e-01,  4.77266789e-02,\n",
       "         4.24100645e-02, -6.97242174e-02],\n",
       "       [-5.97155105e-02, -3.06060002e-01, -9.81126929e-03,\n",
       "        -2.58330940e-03, -2.16581607e-04,  5.21841120e-05,\n",
       "        -1.98590178e-03, -7.12020307e-02,  8.15407447e-01,\n",
       "         4.80605274e-01, -4.13997757e-02],\n",
       "       [-7.83332051e-02, -2.11699530e-02,  3.83204085e-03,\n",
       "        -4.18015385e-03, -3.96823416e-04, -8.71325195e-04,\n",
       "        -5.58899335e-01,  8.23207213e-01,  5.63697030e-02,\n",
       "         1.95114745e-03,  1.27567458e-02],\n",
       "       [-3.92597096e-02,  3.46797296e-02,  1.56330510e-03,\n",
       "         1.13178247e-02,  4.47437488e-05,  5.90467503e-04,\n",
       "        -2.33094912e-02,  1.35576630e-02, -4.98619641e-01,\n",
       "         8.64724278e-01, -5.32325465e-03],\n",
       "       [-9.88974923e-01,  6.89815603e-03,  1.38120228e-02,\n",
       "        -1.33354166e-02, -7.22708225e-04, -1.37010286e-03,\n",
       "         1.28753894e-01, -4.09924692e-03, -3.39865964e-02,\n",
       "        -6.11201649e-02, -4.98798469e-03],\n",
       "       [-1.36552544e-02, -3.20840276e-02,  1.61346749e-01,\n",
       "         9.85694215e-01,  3.03805401e-03,  8.82477849e-03,\n",
       "        -2.53545642e-02, -1.50261744e-02, -1.12855901e-03,\n",
       "        -1.36061258e-02,  4.01778972e-03],\n",
       "       [-1.66960530e-02,  3.88863444e-02, -9.85789441e-01,\n",
       "         1.62093326e-01,  1.13041867e-03,  9.24028732e-03,\n",
       "        -7.61357957e-03, -5.13356598e-04,  2.71156876e-03,\n",
       "        -1.29880924e-03, -3.06881354e-04],\n",
       "       [-1.23278970e-03, -5.41203880e-04,  7.69755488e-03,\n",
       "        -1.03076765e-02,  1.13226877e-02,  9.99851591e-01,\n",
       "        -8.97647158e-04,  2.36142401e-04,  5.98174509e-05,\n",
       "        -5.91559471e-04, -2.53031414e-04],\n",
       "       [-7.43438751e-04, -1.52237587e-04,  5.42044984e-04,\n",
       "        -3.09727372e-03,  9.99930058e-01, -1.13611998e-02,\n",
       "        -5.49157175e-04, -2.33431500e-06,  1.27452822e-04,\n",
       "         2.57745319e-05, -1.42934814e-04]])"
      ]
     },
     "execution_count": 22,
     "metadata": {},
     "output_type": "execute_result"
    }
   ],
   "source": [
    "pca.components_"
   ]
  },
  {
   "cell_type": "code",
   "execution_count": 23,
   "id": "2563e362",
   "metadata": {
    "execution": {
     "iopub.execute_input": "2022-08-25T06:48:31.106316Z",
     "iopub.status.busy": "2022-08-25T06:48:31.105850Z",
     "iopub.status.idle": "2022-08-25T06:48:31.112567Z",
     "shell.execute_reply": "2022-08-25T06:48:31.111756Z"
    },
    "papermill": {
     "duration": 0.032839,
     "end_time": "2022-08-25T06:48:31.117029",
     "exception": false,
     "start_time": "2022-08-25T06:48:31.084190",
     "status": "completed"
    },
    "tags": []
   },
   "outputs": [
    {
     "data": {
      "text/plain": [
       "array([3.22259718e-01, 2.08390985e-01, 1.93819100e-01, 1.00288220e-01,\n",
       "       6.81893542e-02, 5.14367145e-02, 4.62386932e-02, 7.31102291e-03,\n",
       "       1.59791179e-03, 3.69672097e-04, 9.86075963e-05])"
      ]
     },
     "execution_count": 23,
     "metadata": {},
     "output_type": "execute_result"
    }
   ],
   "source": [
    "pca.explained_variance_ratio_"
   ]
  },
  {
   "cell_type": "code",
   "execution_count": 24,
   "id": "070e8572",
   "metadata": {
    "execution": {
     "iopub.execute_input": "2022-08-25T06:48:31.146471Z",
     "iopub.status.busy": "2022-08-25T06:48:31.145798Z",
     "iopub.status.idle": "2022-08-25T06:48:31.149918Z",
     "shell.execute_reply": "2022-08-25T06:48:31.149011Z"
    },
    "papermill": {
     "duration": 0.0215,
     "end_time": "2022-08-25T06:48:31.152276",
     "exception": false,
     "start_time": "2022-08-25T06:48:31.130776",
     "status": "completed"
    },
    "tags": []
   },
   "outputs": [],
   "source": [
    "var_cumu = np.cumsum(pca.explained_variance_ratio_)"
   ]
  },
  {
   "cell_type": "code",
   "execution_count": 25,
   "id": "af5d34cf",
   "metadata": {
    "execution": {
     "iopub.execute_input": "2022-08-25T06:48:31.183187Z",
     "iopub.status.busy": "2022-08-25T06:48:31.182568Z",
     "iopub.status.idle": "2022-08-25T06:48:31.351236Z",
     "shell.execute_reply": "2022-08-25T06:48:31.350179Z"
    },
    "papermill": {
     "duration": 0.186491,
     "end_time": "2022-08-25T06:48:31.353253",
     "exception": false,
     "start_time": "2022-08-25T06:48:31.166762",
     "status": "completed"
    },
    "tags": []
   },
   "outputs": [
    {
     "data": {
      "image/png": "[encoded data removed]",
      "text/plain": [
       "<Figure size 432x288 with 1 Axes>"
      ]
     },
     "metadata": {
      "needs_background": "light"
     },
     "output_type": "display_data"
    }
   ],
   "source": [
    "#Plotting the graph to identify best possible value for n_components\n",
    "plt.vlines(x=6, ymax=1, ymin=0, colors=\"r\", linestyles=\"--\")\n",
    "plt.hlines(y=1.0, xmax=10, xmin=0, colors=\"g\", linestyles=\"--\")\n",
    "plt.plot(var_cumu)\n",
    "plt.xlabel(\"n_components\")\n",
    "plt.ylabel(\"Cumulative variance explained\")\n",
    "plt.show()"
   ]
  },
  {
   "cell_type": "markdown",
   "id": "68b23235",
   "metadata": {
    "papermill": {
     "duration": 0.014197,
     "end_time": "2022-08-25T06:48:31.382123",
     "exception": false,
     "start_time": "2022-08-25T06:48:31.367926",
     "status": "completed"
    },
    "tags": []
   },
   "source": [
    "From the above graph we can say that almost 100% data variance can be explained by 6 components, so we are going to selects n_componets as 6 for PCA"
   ]
  },
  {
   "cell_type": "code",
   "execution_count": 26,
   "id": "c328b26c",
   "metadata": {
    "execution": {
     "iopub.execute_input": "2022-08-25T06:48:31.413578Z",
     "iopub.status.busy": "2022-08-25T06:48:31.412636Z",
     "iopub.status.idle": "2022-08-25T06:48:31.740703Z",
     "shell.execute_reply": "2022-08-25T06:48:31.739636Z"
    },
    "papermill": {
     "duration": 0.346723,
     "end_time": "2022-08-25T06:48:31.743218",
     "exception": false,
     "start_time": "2022-08-25T06:48:31.396495",
     "status": "completed"
    },
    "tags": []
   },
   "outputs": [],
   "source": [
    "from sklearn.decomposition import IncrementalPCA\n",
    "pca_final = IncrementalPCA(n_components=6)\n",
    "X_train_pca = pca_final.fit_transform(X_train)"
   ]
  },
  {
   "cell_type": "code",
   "execution_count": 27,
   "id": "3bcba935",
   "metadata": {
    "execution": {
     "iopub.execute_input": "2022-08-25T06:48:31.780651Z",
     "iopub.status.busy": "2022-08-25T06:48:31.780267Z",
     "iopub.status.idle": "2022-08-25T06:48:31.785678Z",
     "shell.execute_reply": "2022-08-25T06:48:31.784984Z"
    },
    "papermill": {
     "duration": 0.026505,
     "end_time": "2022-08-25T06:48:31.787696",
     "exception": false,
     "start_time": "2022-08-25T06:48:31.761191",
     "status": "completed"
    },
    "tags": []
   },
   "outputs": [
    {
     "data": {
      "text/plain": [
       "(63000, 6)"
      ]
     },
     "execution_count": 27,
     "metadata": {},
     "output_type": "execute_result"
    }
   ],
   "source": [
    "X_train_pca.shape"
   ]
  },
  {
   "cell_type": "code",
   "execution_count": 28,
   "id": "019883ad",
   "metadata": {
    "execution": {
     "iopub.execute_input": "2022-08-25T06:48:31.825612Z",
     "iopub.status.busy": "2022-08-25T06:48:31.825163Z",
     "iopub.status.idle": "2022-08-25T06:48:31.831058Z",
     "shell.execute_reply": "2022-08-25T06:48:31.830353Z"
    },
    "papermill": {
     "duration": 0.027251,
     "end_time": "2022-08-25T06:48:31.832944",
     "exception": false,
     "start_time": "2022-08-25T06:48:31.805693",
     "status": "completed"
    },
    "tags": []
   },
   "outputs": [
    {
     "data": {
      "text/plain": [
       "(7000, 11)"
      ]
     },
     "execution_count": 28,
     "metadata": {},
     "output_type": "execute_result"
    }
   ],
   "source": [
    "X_test.shape"
   ]
  },
  {
   "cell_type": "code",
   "execution_count": 29,
   "id": "4329c478",
   "metadata": {
    "execution": {
     "iopub.execute_input": "2022-08-25T06:48:31.868578Z",
     "iopub.status.busy": "2022-08-25T06:48:31.868089Z",
     "iopub.status.idle": "2022-08-25T06:48:31.878322Z",
     "shell.execute_reply": "2022-08-25T06:48:31.877586Z"
    },
    "papermill": {
     "duration": 0.028999,
     "end_time": "2022-08-25T06:48:31.880180",
     "exception": false,
     "start_time": "2022-08-25T06:48:31.851181",
     "status": "completed"
    },
    "tags": []
   },
   "outputs": [
    {
     "data": {
      "text/plain": [
       "(7000, 6)"
      ]
     },
     "execution_count": 29,
     "metadata": {},
     "output_type": "execute_result"
    }
   ],
   "source": [
    "X_test_pca = pca_final.transform(X_test)\n",
    "X_test_pca.shape"
   ]
  },
  {
   "cell_type": "markdown",
   "id": "38ec095b",
   "metadata": {
    "papermill": {
     "duration": 0.018176,
     "end_time": "2022-08-25T06:48:31.917596",
     "exception": false,
     "start_time": "2022-08-25T06:48:31.899420",
     "status": "completed"
    },
    "tags": []
   },
   "source": [
    "**Logistic Regression**"
   ]
  },
  {
   "cell_type": "code",
   "execution_count": 30,
   "id": "d57a5503",
   "metadata": {
    "execution": {
     "iopub.execute_input": "2022-08-25T06:48:31.955833Z",
     "iopub.status.busy": "2022-08-25T06:48:31.955416Z",
     "iopub.status.idle": "2022-08-25T06:48:31.959821Z",
     "shell.execute_reply": "2022-08-25T06:48:31.959043Z"
    },
    "papermill": {
     "duration": 0.026642,
     "end_time": "2022-08-25T06:48:31.962610",
     "exception": false,
     "start_time": "2022-08-25T06:48:31.935968",
     "status": "completed"
    },
    "tags": []
   },
   "outputs": [],
   "source": [
    "from sklearn.linear_model import LogisticRegression"
   ]
  },
  {
   "cell_type": "code",
   "execution_count": 31,
   "id": "aa21f2f5",
   "metadata": {
    "execution": {
     "iopub.execute_input": "2022-08-25T06:48:32.000720Z",
     "iopub.status.busy": "2022-08-25T06:48:32.000312Z",
     "iopub.status.idle": "2022-08-25T06:48:32.004537Z",
     "shell.execute_reply": "2022-08-25T06:48:32.003756Z"
    },
    "papermill": {
     "duration": 0.025072,
     "end_time": "2022-08-25T06:48:32.006233",
     "exception": false,
     "start_time": "2022-08-25T06:48:31.981161",
     "status": "completed"
    },
    "tags": []
   },
   "outputs": [],
   "source": [
    "learner_pca = LogisticRegression()"
   ]
  },
  {
   "cell_type": "code",
   "execution_count": 32,
   "id": "f0f8a521",
   "metadata": {
    "execution": {
     "iopub.execute_input": "2022-08-25T06:48:32.036831Z",
     "iopub.status.busy": "2022-08-25T06:48:32.036127Z",
     "iopub.status.idle": "2022-08-25T06:48:32.090594Z",
     "shell.execute_reply": "2022-08-25T06:48:32.089796Z"
    },
    "papermill": {
     "duration": 0.072563,
     "end_time": "2022-08-25T06:48:32.093088",
     "exception": false,
     "start_time": "2022-08-25T06:48:32.020525",
     "status": "completed"
    },
    "tags": []
   },
   "outputs": [],
   "source": [
    "model_pca = learner_pca.fit(X_train_pca, y_train)\n"
   ]
  },
  {
   "cell_type": "code",
   "execution_count": 33,
   "id": "1e888fb2",
   "metadata": {
    "execution": {
     "iopub.execute_input": "2022-08-25T06:48:32.132910Z",
     "iopub.status.busy": "2022-08-25T06:48:32.132465Z",
     "iopub.status.idle": "2022-08-25T06:48:32.140095Z",
     "shell.execute_reply": "2022-08-25T06:48:32.139349Z"
    },
    "papermill": {
     "duration": 0.030752,
     "end_time": "2022-08-25T06:48:32.142614",
     "exception": false,
     "start_time": "2022-08-25T06:48:32.111862",
     "status": "completed"
    },
    "tags": []
   },
   "outputs": [],
   "source": [
    "pred_probs_test = model_pca.predict_proba(X_test_pca)\n",
    "\n",
    "# Predict the Test set results\n",
    "X_pred = learner_pca.predict(X_test_pca)"
   ]
  },
  {
   "cell_type": "code",
   "execution_count": 34,
   "id": "c59045bb",
   "metadata": {
    "execution": {
     "iopub.execute_input": "2022-08-25T06:48:32.181058Z",
     "iopub.status.busy": "2022-08-25T06:48:32.180656Z",
     "iopub.status.idle": "2022-08-25T06:48:32.186569Z",
     "shell.execute_reply": "2022-08-25T06:48:32.185839Z"
    },
    "papermill": {
     "duration": 0.030674,
     "end_time": "2022-08-25T06:48:32.191694",
     "exception": false,
     "start_time": "2022-08-25T06:48:32.161020",
     "status": "completed"
    },
    "tags": []
   },
   "outputs": [
    {
     "data": {
      "text/plain": [
       "array([0, 0, 1, ..., 0, 0, 1])"
      ]
     },
     "execution_count": 34,
     "metadata": {},
     "output_type": "execute_result"
    }
   ],
   "source": [
    "X_pred"
   ]
  },
  {
   "cell_type": "code",
   "execution_count": 35,
   "id": "2c6e5f87",
   "metadata": {
    "execution": {
     "iopub.execute_input": "2022-08-25T06:48:32.231353Z",
     "iopub.status.busy": "2022-08-25T06:48:32.230948Z",
     "iopub.status.idle": "2022-08-25T06:48:32.237069Z",
     "shell.execute_reply": "2022-08-25T06:48:32.236359Z"
    },
    "papermill": {
     "duration": 0.031923,
     "end_time": "2022-08-25T06:48:32.242157",
     "exception": false,
     "start_time": "2022-08-25T06:48:32.210234",
     "status": "completed"
    },
    "tags": []
   },
   "outputs": [
    {
     "data": {
      "text/plain": [
       "array([[0.56267891, 0.43732109],\n",
       "       [0.53731158, 0.46268842],\n",
       "       [0.46918998, 0.53081002],\n",
       "       ...,\n",
       "       [0.85335509, 0.14664491],\n",
       "       [0.52849921, 0.47150079],\n",
       "       [0.36088245, 0.63911755]])"
      ]
     },
     "execution_count": 35,
     "metadata": {},
     "output_type": "execute_result"
    }
   ],
   "source": [
    "pred_probs_test"
   ]
  },
  {
   "cell_type": "code",
   "execution_count": 36,
   "id": "ac10cd8f",
   "metadata": {
    "execution": {
     "iopub.execute_input": "2022-08-25T06:48:32.277023Z",
     "iopub.status.busy": "2022-08-25T06:48:32.276638Z",
     "iopub.status.idle": "2022-08-25T06:48:32.288931Z",
     "shell.execute_reply": "2022-08-25T06:48:32.287918Z"
    },
    "papermill": {
     "duration": 0.031452,
     "end_time": "2022-08-25T06:48:32.291601",
     "exception": false,
     "start_time": "2022-08-25T06:48:32.260149",
     "status": "completed"
    },
    "tags": []
   },
   "outputs": [
    {
     "data": {
      "text/plain": [
       "'0.68'"
      ]
     },
     "execution_count": 36,
     "metadata": {},
     "output_type": "execute_result"
    }
   ],
   "source": [
    "from sklearn import metrics\n",
    "\"{:2.2}\".format(metrics.roc_auc_score(y_test, pred_probs_test[:,1]))"
   ]
  },
  {
   "cell_type": "markdown",
   "id": "a460c97e",
   "metadata": {
    "papermill": {
     "duration": 0.014609,
     "end_time": "2022-08-25T06:48:32.322000",
     "exception": false,
     "start_time": "2022-08-25T06:48:32.307391",
     "status": "completed"
    },
    "tags": []
   },
   "source": [
    "**Random Forest**"
   ]
  },
  {
   "cell_type": "code",
   "execution_count": 37,
   "id": "568d5f4b",
   "metadata": {
    "execution": {
     "iopub.execute_input": "2022-08-25T06:48:32.352967Z",
     "iopub.status.busy": "2022-08-25T06:48:32.352153Z",
     "iopub.status.idle": "2022-08-25T06:48:43.516752Z",
     "shell.execute_reply": "2022-08-25T06:48:43.515220Z"
    },
    "papermill": {
     "duration": 11.182387,
     "end_time": "2022-08-25T06:48:43.518960",
     "exception": false,
     "start_time": "2022-08-25T06:48:32.336573",
     "status": "completed"
    },
    "tags": []
   },
   "outputs": [
    {
     "name": "stdout",
     "output_type": "stream",
     "text": [
      "Model accuracy score with 10 decision-trees : 0.7107\n"
     ]
    }
   ],
   "source": [
    "# import Random Forest classifier\n",
    "from sklearn.ensemble import RandomForestClassifier\n",
    "\n",
    "# instantiate the classifier \n",
    "rfc = RandomForestClassifier(random_state=0)\n",
    "\n",
    "# fit the model\n",
    "rfc.fit(X_train, y_train)\n",
    "\n",
    "# Predict the Test set results\n",
    "y_pred = rfc.predict(X_test)\n",
    "\n",
    "# Check accuracy score \n",
    "from sklearn.metrics import accuracy_score\n",
    "print('Model accuracy score with 10 decision-trees : {0:0.4f}'. format(accuracy_score(y_test, y_pred)))"
   ]
  },
  {
   "cell_type": "code",
   "execution_count": 38,
   "id": "79be17cf",
   "metadata": {
    "execution": {
     "iopub.execute_input": "2022-08-25T06:48:43.550027Z",
     "iopub.status.busy": "2022-08-25T06:48:43.549352Z",
     "iopub.status.idle": "2022-08-25T06:48:54.343859Z",
     "shell.execute_reply": "2022-08-25T06:48:54.342964Z"
    },
    "papermill": {
     "duration": 10.812215,
     "end_time": "2022-08-25T06:48:54.346188",
     "exception": false,
     "start_time": "2022-08-25T06:48:43.533973",
     "status": "completed"
    },
    "tags": []
   },
   "outputs": [
    {
     "name": "stdout",
     "output_type": "stream",
     "text": [
      "Model accuracy score with 100 decision-trees : 0.7107\n"
     ]
    }
   ],
   "source": [
    "# instantiate the classifier with n_estimators = 100\n",
    "rfc_100 = RandomForestClassifier(n_estimators=100, random_state=0)\n",
    "\n",
    "# fit the model to the training set\n",
    "rfc_100.fit(X_train, y_train)\n",
    "\n",
    "# Predict on the test set results\n",
    "y_pred_100 = rfc_100.predict(X_test)\n",
    "\n",
    "# Check accuracy score \n",
    "print('Model accuracy score with 100 decision-trees : {0:0.4f}'. format(accuracy_score(y_test, y_pred_100)))"
   ]
  },
  {
   "cell_type": "markdown",
   "id": "91812481",
   "metadata": {
    "papermill": {
     "duration": 0.01436,
     "end_time": "2022-08-25T06:48:54.376085",
     "exception": false,
     "start_time": "2022-08-25T06:48:54.361725",
     "status": "completed"
    },
    "tags": []
   },
   "source": [
    "As the accuracy score is almost same with 10 vs 100 decision trees we can go with n_estimators as 10)"
   ]
  },
  {
   "cell_type": "markdown",
   "id": "d65a6ce4",
   "metadata": {
    "papermill": {
     "duration": 0.014265,
     "end_time": "2022-08-25T06:48:54.404869",
     "exception": false,
     "start_time": "2022-08-25T06:48:54.390604",
     "status": "completed"
    },
    "tags": []
   },
   "source": [
    "**Making predictions on external data i.e. test.csv file**"
   ]
  },
  {
   "cell_type": "code",
   "execution_count": 39,
   "id": "ae7d2c81",
   "metadata": {
    "execution": {
     "iopub.execute_input": "2022-08-25T06:48:54.436151Z",
     "iopub.status.busy": "2022-08-25T06:48:54.435201Z",
     "iopub.status.idle": "2022-08-25T06:48:54.490503Z",
     "shell.execute_reply": "2022-08-25T06:48:54.489148Z"
    },
    "papermill": {
     "duration": 0.073042,
     "end_time": "2022-08-25T06:48:54.492532",
     "exception": false,
     "start_time": "2022-08-25T06:48:54.419490",
     "status": "completed"
    },
    "tags": []
   },
   "outputs": [
    {
     "data": {
      "text/html": [
       "<div>\n",
       "<style scoped>\n",
       "    .dataframe tbody tr th:only-of-type {\n",
       "        vertical-align: middle;\n",
       "    }\n",
       "\n",
       "    .dataframe tbody tr th {\n",
       "        vertical-align: top;\n",
       "    }\n",
       "\n",
       "    .dataframe thead th {\n",
       "        text-align: right;\n",
       "    }\n",
       "</style>\n",
       "<table border=\"1\" class=\"dataframe\">\n",
       "  <thead>\n",
       "    <tr style=\"text-align: right;\">\n",
       "      <th></th>\n",
       "      <th>id</th>\n",
       "      <th>age</th>\n",
       "      <th>gender</th>\n",
       "      <th>height</th>\n",
       "      <th>weight</th>\n",
       "      <th>ap_hi</th>\n",
       "      <th>ap_lo</th>\n",
       "      <th>cholesterol</th>\n",
       "      <th>gluc</th>\n",
       "      <th>smoke</th>\n",
       "      <th>alco</th>\n",
       "      <th>active</th>\n",
       "    </tr>\n",
       "  </thead>\n",
       "  <tbody>\n",
       "    <tr>\n",
       "      <th>0</th>\n",
       "      <td>5</td>\n",
       "      <td>18888</td>\n",
       "      <td>1</td>\n",
       "      <td>154</td>\n",
       "      <td>85.0</td>\n",
       "      <td>130</td>\n",
       "      <td>80</td>\n",
       "      <td>1</td>\n",
       "      <td>1</td>\n",
       "      <td>0</td>\n",
       "      <td>0</td>\n",
       "      <td>1</td>\n",
       "    </tr>\n",
       "    <tr>\n",
       "      <th>1</th>\n",
       "      <td>6</td>\n",
       "      <td>19042</td>\n",
       "      <td>2</td>\n",
       "      <td>170</td>\n",
       "      <td>69.0</td>\n",
       "      <td>130</td>\n",
       "      <td>90</td>\n",
       "      <td>1</td>\n",
       "      <td>1</td>\n",
       "      <td>0</td>\n",
       "      <td>0</td>\n",
       "      <td>1</td>\n",
       "    </tr>\n",
       "    <tr>\n",
       "      <th>2</th>\n",
       "      <td>7</td>\n",
       "      <td>20432</td>\n",
       "      <td>1</td>\n",
       "      <td>160</td>\n",
       "      <td>70.0</td>\n",
       "      <td>120</td>\n",
       "      <td>75</td>\n",
       "      <td>1</td>\n",
       "      <td>1</td>\n",
       "      <td>0</td>\n",
       "      <td>0</td>\n",
       "      <td>0</td>\n",
       "    </tr>\n",
       "    <tr>\n",
       "      <th>3</th>\n",
       "      <td>10</td>\n",
       "      <td>18133</td>\n",
       "      <td>2</td>\n",
       "      <td>185</td>\n",
       "      <td>94.0</td>\n",
       "      <td>130</td>\n",
       "      <td>90</td>\n",
       "      <td>1</td>\n",
       "      <td>1</td>\n",
       "      <td>0</td>\n",
       "      <td>0</td>\n",
       "      <td>1</td>\n",
       "    </tr>\n",
       "    <tr>\n",
       "      <th>4</th>\n",
       "      <td>11</td>\n",
       "      <td>16093</td>\n",
       "      <td>2</td>\n",
       "      <td>170</td>\n",
       "      <td>76.0</td>\n",
       "      <td>120</td>\n",
       "      <td>80</td>\n",
       "      <td>1</td>\n",
       "      <td>1</td>\n",
       "      <td>0</td>\n",
       "      <td>0</td>\n",
       "      <td>1</td>\n",
       "    </tr>\n",
       "  </tbody>\n",
       "</table>\n",
       "</div>"
      ],
      "text/plain": [
       "   id    age  gender  height  weight  ap_hi  ap_lo  cholesterol  gluc  smoke  \\\n",
       "0   5  18888       1     154    85.0    130     80            1     1      0   \n",
       "1   6  19042       2     170    69.0    130     90            1     1      0   \n",
       "2   7  20432       1     160    70.0    120     75            1     1      0   \n",
       "3  10  18133       2     185    94.0    130     90            1     1      0   \n",
       "4  11  16093       2     170    76.0    120     80            1     1      0   \n",
       "\n",
       "   alco  active  \n",
       "0     0       1  \n",
       "1     0       1  \n",
       "2     0       0  \n",
       "3     0       1  \n",
       "4     0       1  "
      ]
     },
     "execution_count": 39,
     "metadata": {},
     "output_type": "execute_result"
    }
   ],
   "source": [
    "df_test = pd.read_csv(\"/kaggle/input/yap6-heart-diseases-prediction/test.csv\")\n",
    "df_test.head()"
   ]
  },
  {
   "cell_type": "code",
   "execution_count": 40,
   "id": "6d681ee7",
   "metadata": {
    "execution": {
     "iopub.execute_input": "2022-08-25T06:48:54.524561Z",
     "iopub.status.busy": "2022-08-25T06:48:54.523888Z",
     "iopub.status.idle": "2022-08-25T06:48:54.537114Z",
     "shell.execute_reply": "2022-08-25T06:48:54.536440Z"
    },
    "papermill": {
     "duration": 0.031103,
     "end_time": "2022-08-25T06:48:54.538846",
     "exception": false,
     "start_time": "2022-08-25T06:48:54.507743",
     "status": "completed"
    },
    "tags": []
   },
   "outputs": [
    {
     "data": {
      "text/html": [
       "<div>\n",
       "<style scoped>\n",
       "    .dataframe tbody tr th:only-of-type {\n",
       "        vertical-align: middle;\n",
       "    }\n",
       "\n",
       "    .dataframe tbody tr th {\n",
       "        vertical-align: top;\n",
       "    }\n",
       "\n",
       "    .dataframe thead th {\n",
       "        text-align: right;\n",
       "    }\n",
       "</style>\n",
       "<table border=\"1\" class=\"dataframe\">\n",
       "  <thead>\n",
       "    <tr style=\"text-align: right;\">\n",
       "      <th></th>\n",
       "      <th>id</th>\n",
       "      <th>age</th>\n",
       "      <th>gender</th>\n",
       "      <th>height</th>\n",
       "      <th>weight</th>\n",
       "      <th>ap_hi</th>\n",
       "      <th>ap_lo</th>\n",
       "      <th>cholesterol</th>\n",
       "      <th>gluc</th>\n",
       "      <th>smoke</th>\n",
       "      <th>alco</th>\n",
       "      <th>active</th>\n",
       "    </tr>\n",
       "  </thead>\n",
       "  <tbody>\n",
       "    <tr>\n",
       "      <th>0</th>\n",
       "      <td>5</td>\n",
       "      <td>18888</td>\n",
       "      <td>1</td>\n",
       "      <td>154</td>\n",
       "      <td>85.0</td>\n",
       "      <td>130</td>\n",
       "      <td>80</td>\n",
       "      <td>1</td>\n",
       "      <td>1</td>\n",
       "      <td>0</td>\n",
       "      <td>0</td>\n",
       "      <td>1</td>\n",
       "    </tr>\n",
       "    <tr>\n",
       "      <th>1</th>\n",
       "      <td>6</td>\n",
       "      <td>19042</td>\n",
       "      <td>2</td>\n",
       "      <td>170</td>\n",
       "      <td>69.0</td>\n",
       "      <td>130</td>\n",
       "      <td>90</td>\n",
       "      <td>1</td>\n",
       "      <td>1</td>\n",
       "      <td>0</td>\n",
       "      <td>0</td>\n",
       "      <td>1</td>\n",
       "    </tr>\n",
       "    <tr>\n",
       "      <th>2</th>\n",
       "      <td>7</td>\n",
       "      <td>20432</td>\n",
       "      <td>1</td>\n",
       "      <td>160</td>\n",
       "      <td>70.0</td>\n",
       "      <td>120</td>\n",
       "      <td>75</td>\n",
       "      <td>1</td>\n",
       "      <td>1</td>\n",
       "      <td>0</td>\n",
       "      <td>0</td>\n",
       "      <td>0</td>\n",
       "    </tr>\n",
       "    <tr>\n",
       "      <th>3</th>\n",
       "      <td>10</td>\n",
       "      <td>18133</td>\n",
       "      <td>2</td>\n",
       "      <td>185</td>\n",
       "      <td>94.0</td>\n",
       "      <td>130</td>\n",
       "      <td>90</td>\n",
       "      <td>1</td>\n",
       "      <td>1</td>\n",
       "      <td>0</td>\n",
       "      <td>0</td>\n",
       "      <td>1</td>\n",
       "    </tr>\n",
       "    <tr>\n",
       "      <th>4</th>\n",
       "      <td>11</td>\n",
       "      <td>16093</td>\n",
       "      <td>2</td>\n",
       "      <td>170</td>\n",
       "      <td>76.0</td>\n",
       "      <td>120</td>\n",
       "      <td>80</td>\n",
       "      <td>1</td>\n",
       "      <td>1</td>\n",
       "      <td>0</td>\n",
       "      <td>0</td>\n",
       "      <td>1</td>\n",
       "    </tr>\n",
       "  </tbody>\n",
       "</table>\n",
       "</div>"
      ],
      "text/plain": [
       "   id    age  gender  height  weight  ap_hi  ap_lo  cholesterol  gluc  smoke  \\\n",
       "0   5  18888       1     154    85.0    130     80            1     1      0   \n",
       "1   6  19042       2     170    69.0    130     90            1     1      0   \n",
       "2   7  20432       1     160    70.0    120     75            1     1      0   \n",
       "3  10  18133       2     185    94.0    130     90            1     1      0   \n",
       "4  11  16093       2     170    76.0    120     80            1     1      0   \n",
       "\n",
       "   alco  active  \n",
       "0     0       1  \n",
       "1     0       1  \n",
       "2     0       0  \n",
       "3     0       1  \n",
       "4     0       1  "
      ]
     },
     "execution_count": 40,
     "metadata": {},
     "output_type": "execute_result"
    }
   ],
   "source": [
    "X_df_test = df_test.iloc[:,:]\n",
    "X_df_test.head()"
   ]
  },
  {
   "cell_type": "code",
   "execution_count": 41,
   "id": "c136cd98",
   "metadata": {
    "execution": {
     "iopub.execute_input": "2022-08-25T06:48:54.570802Z",
     "iopub.status.busy": "2022-08-25T06:48:54.570434Z",
     "iopub.status.idle": "2022-08-25T06:48:54.583230Z",
     "shell.execute_reply": "2022-08-25T06:48:54.582308Z"
    },
    "papermill": {
     "duration": 0.031357,
     "end_time": "2022-08-25T06:48:54.585365",
     "exception": false,
     "start_time": "2022-08-25T06:48:54.554008",
     "status": "completed"
    },
    "tags": []
   },
   "outputs": [],
   "source": [
    "X_df_test = X_df_test.drop(['id'], axis=1)\n",
    "X_df_test = scaling(X_df_test, scaler)"
   ]
  },
  {
   "cell_type": "code",
   "execution_count": 42,
   "id": "8ca0b794",
   "metadata": {
    "execution": {
     "iopub.execute_input": "2022-08-25T06:48:54.616415Z",
     "iopub.status.busy": "2022-08-25T06:48:54.616100Z",
     "iopub.status.idle": "2022-08-25T06:48:54.628311Z",
     "shell.execute_reply": "2022-08-25T06:48:54.627503Z"
    },
    "papermill": {
     "duration": 0.031561,
     "end_time": "2022-08-25T06:48:54.631685",
     "exception": false,
     "start_time": "2022-08-25T06:48:54.600124",
     "status": "completed"
    },
    "tags": []
   },
   "outputs": [
    {
     "data": {
      "text/plain": [
       "(30000, 6)"
      ]
     },
     "execution_count": 42,
     "metadata": {},
     "output_type": "execute_result"
    }
   ],
   "source": [
    "df_test_pca = pca_final.transform(X_df_test)\n",
    "df_test_pca.shape"
   ]
  },
  {
   "cell_type": "code",
   "execution_count": 43,
   "id": "e501600f",
   "metadata": {
    "execution": {
     "iopub.execute_input": "2022-08-25T06:48:54.673385Z",
     "iopub.status.busy": "2022-08-25T06:48:54.673035Z",
     "iopub.status.idle": "2022-08-25T06:48:54.678641Z",
     "shell.execute_reply": "2022-08-25T06:48:54.677927Z"
    },
    "papermill": {
     "duration": 0.031819,
     "end_time": "2022-08-25T06:48:54.683707",
     "exception": false,
     "start_time": "2022-08-25T06:48:54.651888",
     "status": "completed"
    },
    "tags": []
   },
   "outputs": [
    {
     "data": {
      "text/plain": [
       "(30000, 12)"
      ]
     },
     "execution_count": 43,
     "metadata": {},
     "output_type": "execute_result"
    }
   ],
   "source": [
    "df_test.shape"
   ]
  },
  {
   "cell_type": "markdown",
   "id": "ba8f83e9",
   "metadata": {
    "papermill": {
     "duration": 0.020081,
     "end_time": "2022-08-25T06:48:54.724203",
     "exception": false,
     "start_time": "2022-08-25T06:48:54.704122",
     "status": "completed"
    },
    "tags": []
   },
   "source": [
    "logistic regression Submission"
   ]
  },
  {
   "cell_type": "code",
   "execution_count": 44,
   "id": "8d6339da",
   "metadata": {
    "execution": {
     "iopub.execute_input": "2022-08-25T06:48:54.760916Z",
     "iopub.status.busy": "2022-08-25T06:48:54.760420Z",
     "iopub.status.idle": "2022-08-25T06:48:54.764366Z",
     "shell.execute_reply": "2022-08-25T06:48:54.763484Z"
    },
    "papermill": {
     "duration": 0.02195,
     "end_time": "2022-08-25T06:48:54.766164",
     "exception": false,
     "start_time": "2022-08-25T06:48:54.744214",
     "status": "completed"
    },
    "tags": []
   },
   "outputs": [],
   "source": [
    "#ypred_df_test = learner_pca.predict(df_test_pca)\n",
    "#df_test['cardio'] = ypred_df_test.reshape(-1)"
   ]
  },
  {
   "cell_type": "markdown",
   "id": "b63ce5e4",
   "metadata": {
    "papermill": {
     "duration": 0.015132,
     "end_time": "2022-08-25T06:48:54.796481",
     "exception": false,
     "start_time": "2022-08-25T06:48:54.781349",
     "status": "completed"
    },
    "tags": []
   },
   "source": [
    "Random Forest Submition"
   ]
  },
  {
   "cell_type": "code",
   "execution_count": 45,
   "id": "f5ab8765",
   "metadata": {
    "execution": {
     "iopub.execute_input": "2022-08-25T06:48:54.828635Z",
     "iopub.status.busy": "2022-08-25T06:48:54.828016Z",
     "iopub.status.idle": "2022-08-25T06:48:55.179820Z",
     "shell.execute_reply": "2022-08-25T06:48:55.178579Z"
    },
    "papermill": {
     "duration": 0.37076,
     "end_time": "2022-08-25T06:48:55.182319",
     "exception": false,
     "start_time": "2022-08-25T06:48:54.811559",
     "status": "completed"
    },
    "tags": []
   },
   "outputs": [],
   "source": [
    "ypred_df_testrfc = rfc.predict(X_df_test)\n",
    "df_test['cardio'] = ypred_df_testrfc.reshape(-1)"
   ]
  },
  {
   "cell_type": "code",
   "execution_count": 46,
   "id": "ec685dfd",
   "metadata": {
    "execution": {
     "iopub.execute_input": "2022-08-25T06:48:55.214023Z",
     "iopub.status.busy": "2022-08-25T06:48:55.213620Z",
     "iopub.status.idle": "2022-08-25T06:48:55.224380Z",
     "shell.execute_reply": "2022-08-25T06:48:55.223434Z"
    },
    "papermill": {
     "duration": 0.028861,
     "end_time": "2022-08-25T06:48:55.226311",
     "exception": false,
     "start_time": "2022-08-25T06:48:55.197450",
     "status": "completed"
    },
    "tags": []
   },
   "outputs": [
    {
     "data": {
      "text/html": [
       "<div>\n",
       "<style scoped>\n",
       "    .dataframe tbody tr th:only-of-type {\n",
       "        vertical-align: middle;\n",
       "    }\n",
       "\n",
       "    .dataframe tbody tr th {\n",
       "        vertical-align: top;\n",
       "    }\n",
       "\n",
       "    .dataframe thead th {\n",
       "        text-align: right;\n",
       "    }\n",
       "</style>\n",
       "<table border=\"1\" class=\"dataframe\">\n",
       "  <thead>\n",
       "    <tr style=\"text-align: right;\">\n",
       "      <th></th>\n",
       "      <th>id</th>\n",
       "      <th>cardio</th>\n",
       "    </tr>\n",
       "  </thead>\n",
       "  <tbody>\n",
       "    <tr>\n",
       "      <th>0</th>\n",
       "      <td>5</td>\n",
       "      <td>0</td>\n",
       "    </tr>\n",
       "    <tr>\n",
       "      <th>1</th>\n",
       "      <td>6</td>\n",
       "      <td>1</td>\n",
       "    </tr>\n",
       "    <tr>\n",
       "      <th>2</th>\n",
       "      <td>7</td>\n",
       "      <td>0</td>\n",
       "    </tr>\n",
       "    <tr>\n",
       "      <th>3</th>\n",
       "      <td>10</td>\n",
       "      <td>1</td>\n",
       "    </tr>\n",
       "    <tr>\n",
       "      <th>4</th>\n",
       "      <td>11</td>\n",
       "      <td>0</td>\n",
       "    </tr>\n",
       "  </tbody>\n",
       "</table>\n",
       "</div>"
      ],
      "text/plain": [
       "   id  cardio\n",
       "0   5       0\n",
       "1   6       1\n",
       "2   7       0\n",
       "3  10       1\n",
       "4  11       0"
      ]
     },
     "execution_count": 46,
     "metadata": {},
     "output_type": "execute_result"
    }
   ],
   "source": [
    "df_test[['id','cardio']].head()"
   ]
  },
  {
   "cell_type": "code",
   "execution_count": 47,
   "id": "e80627f6",
   "metadata": {
    "execution": {
     "iopub.execute_input": "2022-08-25T06:48:55.258098Z",
     "iopub.status.busy": "2022-08-25T06:48:55.257739Z",
     "iopub.status.idle": "2022-08-25T06:48:55.291275Z",
     "shell.execute_reply": "2022-08-25T06:48:55.290247Z"
    },
    "papermill": {
     "duration": 0.052458,
     "end_time": "2022-08-25T06:48:55.293849",
     "exception": false,
     "start_time": "2022-08-25T06:48:55.241391",
     "status": "completed"
    },
    "tags": []
   },
   "outputs": [],
   "source": [
    "df_test[['id','cardio']].to_csv('submission.csv',index=False)"
   ]
  },
  {
   "cell_type": "code",
   "execution_count": null,
   "id": "8a1157f3",
   "metadata": {
    "papermill": {
     "duration": 0.015088,
     "end_time": "2022-08-25T06:48:55.324503",
     "exception": false,
     "start_time": "2022-08-25T06:48:55.309415",
     "status": "completed"
    },
    "tags": []
   },
   "outputs": [],
   "source": []
  }
 ],
 "metadata": {
  "kernelspec": {
   "display_name": "Python 3",
   "language": "python",
   "name": "python3"
  },
  "language_info": {
   "codemirror_mode": {
    "name": "ipython",
    "version": 3
   },
   "file_extension": ".py",
   "mimetype": "text/x-python",
   "name": "python",
   "nbconvert_exporter": "python",
   "pygments_lexer": "ipython3",
   "version": "3.7.12"
  },
  "papermill": {
   "default_parameters": {},
   "duration": 36.258746,
   "end_time": "2022-08-25T06:48:56.060439",
   "environment_variables": {},
   "exception": null,
   "input_path": "__notebook__.ipynb",
   "output_path": "__notebook__.ipynb",
   "parameters": {},
   "start_time": "2022-08-25T06:48:19.801693",
   "version": "2.3.4"
  }
 },
 "nbformat": 4,
 "nbformat_minor": 5
}
